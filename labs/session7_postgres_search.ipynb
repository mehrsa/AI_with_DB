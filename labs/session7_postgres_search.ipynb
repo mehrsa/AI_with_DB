{
 "cells": [
  {
   "cell_type": "markdown",
   "id": "1890b315",
   "metadata": {},
   "source": [
    "### For this lab, you would need: \n",
    "1. In your Azure postgreSQL account go to settings -> server parameters -> search for azure.extensions\n",
    "2. Turn on the following extensions:\n",
    "- AZURE_AI\n",
    "- PG_DISKANN\n",
    "- VECTOR\n",
    "3. Make sure to save the changes so they are deployed.\n",
    "\n"
   ]
  },
  {
   "cell_type": "markdown",
   "id": "30c3db81",
   "metadata": {},
   "source": [
    "### Populate an example table of products"
   ]
  },
  {
   "cell_type": "markdown",
   "id": "8ad893c9",
   "metadata": {},
   "source": [
    "In Terminal, go to src folder and run below to set up the product_catalogue table:\n",
    "\n",
    "- **python product_catalog_init.py**"
   ]
  },
  {
   "cell_type": "markdown",
   "id": "4594ae39",
   "metadata": {},
   "source": [
    "### import main requirements"
   ]
  },
  {
   "cell_type": "code",
   "execution_count": null,
   "id": "42c19172",
   "metadata": {},
   "outputs": [],
   "source": [
    "from semantic_kernel.connectors.ai.open_ai import AzureTextEmbedding\n",
    "import os\n",
    "from dotenv import load_dotenv\n",
    "load_dotenv(override=True)\n",
    "import psycopg2\n",
    "from pgvector.psycopg2 import register_vector\n",
    "from src.get_conn import get_connection_uri"
   ]
  },
  {
   "cell_type": "markdown",
   "id": "c5415dbb",
   "metadata": {},
   "source": [
    "### Set up and populate vector tables\n",
    "As we saw in session 4 that first step is to generate embeddings and populate the table with vectors for descriptions (batch vector generation and insertion):"
   ]
  },
  {
   "cell_type": "code",
   "execution_count": 2,
   "id": "c1e35e61",
   "metadata": {},
   "outputs": [],
   "source": [
    "def get_embed_service():\n",
    "    embedding_service = AzureTextEmbedding(\n",
    "        deployment_name=\"text-embedding-ada-002\",\n",
    "        api_key= os.getenv('AZURE_OPENAI_KEY'),\n",
    "        endpoint= os.getenv('AZURE_OPENAI_EMBED_ENDPOINT'),\n",
    "        base_url= os.getenv('AZURE_OPENAI_BASE_EMBED_URL'))\n",
    "    return embedding_service"
   ]
  },
  {
   "cell_type": "markdown",
   "id": "7674fbf5",
   "metadata": {},
   "source": [
    "#### Create the table"
   ]
  },
  {
   "cell_type": "code",
   "execution_count": null,
   "id": "57299afa",
   "metadata": {},
   "outputs": [
    {
     "name": "stdout",
     "output_type": "stream",
     "text": [
      "Connection uri was rertieved successfully.\n"
     ]
    }
   ],
   "source": [
    "conn_uri = get_connection_uri()\n",
    "with psycopg2.connect(conn_uri) as conn:\n",
    "    with conn.cursor() as cur:\n",
    "        # create/replace product_catalogue_vectors table \n",
    "        cur.execute(\"\"\"\n",
    "            DROP TABLE IF EXISTS product_catalogue_vectors CASCADE;\n",
    "            CREATE TABLE product_catalogue_vectors (\n",
    "                vector_id SERIAL PRIMARY KEY,\n",
    "                id INTEGER REFERENCES product_catalogue(id),\n",
    "                description TEXT NOT NULL,\n",
    "                embedding vector(1536) NOT NULL\n",
    "            );\n",
    "        \"\"\")\n",
    "        conn.commit()\n",
    "\n"
   ]
  },
  {
   "cell_type": "markdown",
   "id": "523bfec7",
   "metadata": {},
   "source": [
    "#### Populate with embedding vectors"
   ]
  },
  {
   "cell_type": "code",
   "execution_count": null,
   "id": "b1cbe203",
   "metadata": {},
   "outputs": [
    {
     "name": "stdout",
     "output_type": "stream",
     "text": [
      "All embeddings inserted into product_catalogue_vectors table.\n"
     ]
    }
   ],
   "source": [
    "#generate embeddings for product descriptions and store them\n",
    "embedding_service = get_embed_service()\n",
    "conn_uri = get_connection_uri()\n",
    "with psycopg2.connect(conn_uri) as conn:\n",
    "    with conn.cursor() as cur:\n",
    "        cur.execute(\"SELECT id, description FROM product_catalogue\")\n",
    "        for row in cur.fetchall():\n",
    "            prod_id, desc = row\n",
    "            response = await embedding_service.generate_embeddings([desc])\n",
    "            embedding = response[0]\n",
    "            cur.execute(\n",
    "                \"INSERT INTO product_catalogue_vectors (embedding, id, description) VALUES (%s,%s,%s)\", (embedding.tolist(), prod_id, desc)\n",
    "            )\n",
    "        conn.commit()\n",
    "                    \n",
    "print(\"Product_catalogue_vectors table created and populated with embeddings.\")\n"
   ]
  },
  {
   "cell_type": "markdown",
   "id": "765350eb",
   "metadata": {},
   "source": [
    "#### Build the diskANN index:"
   ]
  },
  {
   "cell_type": "code",
   "execution_count": 3,
   "id": "b64df81f",
   "metadata": {},
   "outputs": [
    {
     "name": "stdout",
     "output_type": "stream",
     "text": [
      "Connection uri was rertieved successfully.\n"
     ]
    }
   ],
   "source": [
    "conn_uri = get_connection_uri()\n",
    "with psycopg2.connect(conn_uri) as conn:\n",
    "    with conn.cursor() as cur:\n",
    "        query = \"\"\" CREATE INDEX product_catalogue_index ON Product_catalogue_vectors \n",
    "        USING diskann (embedding vector_cosine_ops)\"\"\"\n",
    "        cur.execute(query)\n",
    "        conn.commit()\n"
   ]
  },
  {
   "cell_type": "markdown",
   "id": "671c9b85",
   "metadata": {},
   "source": [
    "### Examples"
   ]
  },
  {
   "cell_type": "markdown",
   "id": "7c9e1b4d",
   "metadata": {},
   "source": [
    "#### Generate embedding for the sample question:"
   ]
  },
  {
   "cell_type": "code",
   "execution_count": 3,
   "id": "ec13c4d7",
   "metadata": {},
   "outputs": [],
   "source": [
    "embedding_service = get_embed_service()\n",
    "question = \"I want a smart watch that can track my health, has a long battery life and is water resistant.\"\n",
    "test_embedding = (await embedding_service.generate_embeddings([question]))[0]\n",
    "embedding_list = test_embedding.tolist() "
   ]
  },
  {
   "cell_type": "markdown",
   "id": "5bcadea9",
   "metadata": {},
   "source": [
    "#### Search for top results:"
   ]
  },
  {
   "cell_type": "code",
   "execution_count": 4,
   "id": "5712da4c",
   "metadata": {},
   "outputs": [
    {
     "name": "stdout",
     "output_type": "stream",
     "text": [
      "Connection uri was rertieved successfully.\n",
      "Product ID: 1806 - Description: The Samsung Galaxy Watch 5 redefines smartwatch versatility with a robust suite of health and fitness tracking, including sleep analysis, body composition, and heart health tools. Its AMOLED display is vibrant and customizable, while the durable sapphire crystal glass resists scratches. Long battery life and compatibility with Android and iOS ensure everyday utility.\n",
      "Product ID: 20 - Description: Samsung Galaxy Watch 5 Pro offers robust fitness and health monitoring in a durable titanium build. Its 1.4-inch AMOLED display is protected by sapphire crystal, and advanced GPS features make it ideal for explorers. With body composition measurement and up to 80 hours of battery life, it's one of the most feature-packed smartwatches for Android users.\n",
      "Product ID: 507 - Description: Huawei Watch GT 3 blends classic aesthetics with advanced health tracking, including SpO2, sleep, heart rate, and over 100 fitness modes. Its AMOLED display and two-week battery life, plus built-in GPS and Bluetooth calling, make it a top choice for tech-savvy users and athletes.\n",
      "Product ID: 334 - Description: Track your health holistically with the Fitbit Sense 2 smartwatch. Featuring stress management, ECG capability, sleep tracking, and multi-day battery life, this wearable is designed to offer a comprehensive view of your wellbeing and guide you toward healthier habits.\n",
      "Product ID: 1017 - Description: Casio GBD-H1000 is a rugged fitness smartwatch with built-in GPS, heart rate monitor, and solar-assisted charging. Military-grade shock resistance and 200m water resistance make it perfect for athletes and adventurers who value durability and performance.\n",
      "Product ID: 237 - Description: The Samsung Galaxy Watch5 Pro is built for adventure with advanced GPS, turn-by-turn navigation, a titanium case, and Sapphire Crystal display. Its robust set of health features—like body composition, sleep tracking, and heart rate sensors—combined with a multi-day battery, makes it the definitive smartwatch for outdoor enthusiasts and fitness-minded users.\n",
      "Product ID: 793 - Description: Stay on track with your health and fitness goals using the Fitbit Versa 4 Smartwatch. Monitor heart rate, sleep, and activity levels, while enjoying built-in GPS, voice assistant support, and smartphone notifications. Its lightweight design, long battery life, and customizable watch faces make it a perfect companion for daily wear and workouts.\n",
      "Product ID: 1144 - Description: The Xiaomi Mi Watch S1 Active is a stylish, fitness-focused smartwatch featuring an Always-On 1.43-inch AMOLED display, over 117 sport modes, GPS, heart rate, and SpO2 monitoring. With up to 12 days of battery life and 5ATM water resistance, it’s suitable for sports enthusiasts, swimmers, and everyday use. Notifications, Bluetooth calling, and app integrations make it a comprehensive lifestyle companion.\n",
      "Product ID: 671 - Description: The Casio G-Shock GBDH2000 is a durable fitness smartwatch featuring GPS, heart rate monitoring, multi-sport tracking, and solar-assisted charging. Built for extreme conditions, it offers advanced health tracking and connectivity for active lifestyles.\n",
      "Product ID: 1212 - Description: Fitbit Versa 4 combines advanced fitness and health tracking with a lightweight, swim-proof design. Featuring heart rate monitoring, sleep tracking, built-in GPS, and up to 6 days of battery, it’s perfect for those tracking workouts and daily health stats.\n"
     ]
    }
   ],
   "source": [
    "conn_uri = get_connection_uri()\n",
    "with psycopg2.connect(conn_uri) as conn:\n",
    "    register_vector(conn)\n",
    "    with conn.cursor() as cur:\n",
    "        cur.execute(\n",
    "            \"\"\"\n",
    "            SELECT id, embedding, description\n",
    "            FROM product_catalogue_vectors\n",
    "            ORDER BY embedding <-> %s\n",
    "            LIMIT %s;\n",
    "            \"\"\",\n",
    "            (str(embedding_list), 10)\n",
    "        )\n",
    "\n",
    "        rows = cur.fetchall()\n",
    "\n",
    "tuple_list = []\n",
    "for row in rows:\n",
    "    product_id, embedding, desc = row\n",
    "    tuple_list.append((product_id, desc))\n",
    "\n",
    "    print(f\"Product ID: {product_id} - Description: {desc}\")"
   ]
  },
  {
   "cell_type": "markdown",
   "id": "ba5e9fb8",
   "metadata": {},
   "source": [
    "#### How can we improve accuracy in the results? \n",
    "\n",
    "We expected a product with all key features to be ranked as the top result, but it is not. Let's try semantic reranking to see if we can bump it up the list:"
   ]
  },
  {
   "cell_type": "markdown",
   "id": "2ff21382",
   "metadata": {},
   "source": [
    "Setting up Azure OpenAI connection so that we can use our deployed gpt-4.1 model for reranking:"
   ]
  },
  {
   "cell_type": "code",
   "execution_count": 5,
   "id": "35efb76b",
   "metadata": {},
   "outputs": [
    {
     "name": "stdout",
     "output_type": "stream",
     "text": [
      "Connection uri was rertieved successfully.\n"
     ]
    }
   ],
   "source": [
    "conn_uri = get_connection_uri()\n",
    "endpoint = os.getenv('AZURE_OPENAI_ENDPOINT')\n",
    "com_index = endpoint.find('.com')\n",
    "truncated_endpoint = endpoint[:com_index + 4]\n",
    "with psycopg2.connect(conn_uri) as conn:\n",
    "    register_vector(conn)\n",
    "    with conn.cursor() as cur:\n",
    "        # set Azure OpenAI settings\n",
    "        setting_query = \"\"\" \n",
    "                SELECT azure_ai.set_setting('azure_openai.endpoint', %s);\n",
    "                SELECT azure_ai.set_setting('azure_openai.subscription_key', %s);\n",
    "                \"\"\"\n",
    "\n",
    "        cur.execute(setting_query, (truncated_endpoint, os.getenv('AZURE_OPENAI_API_KEY')))\n",
    "        conn.commit()\n"
   ]
  },
  {
   "cell_type": "markdown",
   "id": "bf2ddd4d",
   "metadata": {},
   "source": [
    "Let's first use the extract operator to get first 3 features requested by user:"
   ]
  },
  {
   "cell_type": "code",
   "execution_count": 6,
   "id": "00be3ad4",
   "metadata": {},
   "outputs": [
    {
     "name": "stdout",
     "output_type": "stream",
     "text": [
      "Connection uri was rertieved successfully.\n"
     ]
    }
   ],
   "source": [
    "conn_uri = get_connection_uri()\n",
    "with psycopg2.connect(conn_uri) as conn:\n",
    "    register_vector(conn)\n",
    "    with conn.cursor() as cur:\n",
    "        rerank_query = f\"\"\"\n",
    "        SELECT azure_ai.extract(\n",
    "                'I want a smart watch that can track my health, has a long battery life and is water resistant.',\n",
    "                ARRAY['feature1', 'feature2', 'feature3'],\n",
    "                'gpt-4.1'\n",
    "                )\n",
    "        \"\"\"\n",
    "        cur.execute(rerank_query)\n",
    "        ranked_products = cur.fetchall()\n",
    "features =  ranked_products[0][0]['feature1'] + ', '+ ranked_products[0][0]['feature2'] + ', ' + ranked_products[0][0]['feature3'] "
   ]
  },
  {
   "cell_type": "code",
   "execution_count": 24,
   "id": "2a36f7d3",
   "metadata": {},
   "outputs": [
    {
     "data": {
      "text/plain": [
       "'health tracking, long battery life, water resistance'"
      ]
     },
     "execution_count": 24,
     "metadata": {},
     "output_type": "execute_result"
    }
   ],
   "source": [
    "features"
   ]
  },
  {
   "cell_type": "markdown",
   "id": "384ab05e",
   "metadata": {},
   "source": [
    "Now let's use these features to rerank the results:"
   ]
  },
  {
   "cell_type": "code",
   "execution_count": 25,
   "id": "5a723af6",
   "metadata": {},
   "outputs": [
    {
     "name": "stdout",
     "output_type": "stream",
     "text": [
      "Connection uri was rertieved successfully.\n"
     ]
    }
   ],
   "source": [
    "conn_uri = get_connection_uri()\n",
    "with psycopg2.connect(conn_uri) as conn:\n",
    "    register_vector(conn)\n",
    "    with conn.cursor() as cur:\n",
    "        rerank_query = f\"\"\"\n",
    "        WITH similar_products AS (\n",
    "            SELECT id, embedding, description\n",
    "            FROM product_catalogue_vectors_diskann\n",
    "            ORDER BY embedding <-> %s\n",
    "            LIMIT %s\n",
    "        )\n",
    "        SELECT rank, description, id\n",
    "        FROM azure_ai.rank(\n",
    "                %s,\n",
    "                ARRAY(SELECT description FROM similar_products ORDER BY id ASC),\n",
    "                ARRAY(SELECT id FROM similar_products ORDER BY id ASC),\n",
    "                'gpt-4.1'\n",
    "                )\n",
    "        LEFT JOIN\n",
    "            similar_products USING (id)\n",
    "        ORDER BY\n",
    "            rank ASC;\n",
    "        \"\"\"\n",
    "        cur.execute(rerank_query, (str(embedding_list),10, features))\n",
    "        ranked_products = cur.fetchall()\n",
    "        "
   ]
  },
  {
   "cell_type": "markdown",
   "id": "4c968c4c",
   "metadata": {},
   "source": [
    "Now Fitbit Charge 5 which has all 3 requirements is ranked 1!"
   ]
  },
  {
   "cell_type": "code",
   "execution_count": 26,
   "id": "959747a8",
   "metadata": {},
   "outputs": [
    {
     "name": "stdout",
     "output_type": "stream",
     "text": [
      "Rank: 1, ID: 1144, Description: The Xiaomi Mi Watch S1 Active is a stylish, fitness-focused smartwatch featuring an Always-On 1.43-inch AMOLED display, over 117 sport modes, GPS, heart rate, and SpO2 monitoring. With up to 12 days of battery life and 5ATM water resistance, it’s suitable for sports enthusiasts, swimmers, and everyday use. Notifications, Bluetooth calling, and app integrations make it a comprehensive lifestyle companion.\n",
      "Rank: 2, ID: 507, Description: Huawei Watch GT 3 blends classic aesthetics with advanced health tracking, including SpO2, sleep, heart rate, and over 100 fitness modes. Its AMOLED display and two-week battery life, plus built-in GPS and Bluetooth calling, make it a top choice for tech-savvy users and athletes.\n",
      "Rank: 3, ID: 1017, Description: Casio GBD-H1000 is a rugged fitness smartwatch with built-in GPS, heart rate monitor, and solar-assisted charging. Military-grade shock resistance and 200m water resistance make it perfect for athletes and adventurers who value durability and performance.\n",
      "Rank: 4, ID: 1212, Description: Fitbit Versa 4 combines advanced fitness and health tracking with a lightweight, swim-proof design. Featuring heart rate monitoring, sleep tracking, built-in GPS, and up to 6 days of battery, it’s perfect for those tracking workouts and daily health stats.\n",
      "Rank: 5, ID: 793, Description: Stay on track with your health and fitness goals using the Fitbit Versa 4 Smartwatch. Monitor heart rate, sleep, and activity levels, while enjoying built-in GPS, voice assistant support, and smartphone notifications. Its lightweight design, long battery life, and customizable watch faces make it a perfect companion for daily wear and workouts.\n",
      "Rank: 6, ID: 20, Description: Samsung Galaxy Watch 5 Pro offers robust fitness and health monitoring in a durable titanium build. Its 1.4-inch AMOLED display is protected by sapphire crystal, and advanced GPS features make it ideal for explorers. With body composition measurement and up to 80 hours of battery life, it's one of the most feature-packed smartwatches for Android users.\n",
      "Rank: 7, ID: 1806, Description: The Samsung Galaxy Watch 5 redefines smartwatch versatility with a robust suite of health and fitness tracking, including sleep analysis, body composition, and heart health tools. Its AMOLED display is vibrant and customizable, while the durable sapphire crystal glass resists scratches. Long battery life and compatibility with Android and iOS ensure everyday utility.\n",
      "Rank: 8, ID: 334, Description: Track your health holistically with the Fitbit Sense 2 smartwatch. Featuring stress management, ECG capability, sleep tracking, and multi-day battery life, this wearable is designed to offer a comprehensive view of your wellbeing and guide you toward healthier habits.\n",
      "Rank: 9, ID: 237, Description: The Samsung Galaxy Watch5 Pro is built for adventure with advanced GPS, turn-by-turn navigation, a titanium case, and Sapphire Crystal display. Its robust set of health features—like body composition, sleep tracking, and heart rate sensors—combined with a multi-day battery, makes it the definitive smartwatch for outdoor enthusiasts and fitness-minded users.\n",
      "Rank: 10, ID: 671, Description: The Casio G-Shock GBDH2000 is a durable fitness smartwatch featuring GPS, heart rate monitoring, multi-sport tracking, and solar-assisted charging. Built for extreme conditions, it offers advanced health tracking and connectivity for active lifestyles.\n"
     ]
    }
   ],
   "source": [
    "for r in ranked_products:\n",
    "    rank, description, id = r\n",
    "    print(f\"Rank: {rank}, ID: {id}, Description: {description}\")"
   ]
  },
  {
   "cell_type": "code",
   "execution_count": null,
   "id": "0a7e22f9",
   "metadata": {},
   "outputs": [],
   "source": []
  }
 ],
 "metadata": {
  "kernelspec": {
   "display_name": "labs",
   "language": "python",
   "name": "python3"
  },
  "language_info": {
   "codemirror_mode": {
    "name": "ipython",
    "version": 3
   },
   "file_extension": ".py",
   "mimetype": "text/x-python",
   "name": "python",
   "nbconvert_exporter": "python",
   "pygments_lexer": "ipython3",
   "version": "3.11.9"
  }
 },
 "nbformat": 4,
 "nbformat_minor": 5
}
